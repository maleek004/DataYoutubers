{
  "cells": [
    {
      "cell_type": "code",
      "execution_count": 1,
      "metadata": {
        "colab": {
          "base_uri": "https://localhost:8080/"
        },
        "id": "vBoUxP39VPCh",
        "outputId": "ab9061bd-abaa-4d50-cb36-422c66ac1cb5"
      },
      "outputs": [
        {
          "name": "stdout",
          "output_type": "stream",
          "text": [
            "Collecting youtube-transcript-api\n",
            "  Downloading youtube_transcript_api-1.2.2-py3-none-any.whl.metadata (24 kB)\n",
            "Requirement already satisfied: defusedxml<0.8.0,>=0.7.1 in c:\\users\\user\\anaconda3\\lib\\site-packages (from youtube-transcript-api) (0.7.1)\n",
            "Requirement already satisfied: requests in c:\\users\\user\\anaconda3\\lib\\site-packages (from youtube-transcript-api) (2.31.0)\n",
            "Requirement already satisfied: charset-normalizer<4,>=2 in c:\\users\\user\\anaconda3\\lib\\site-packages (from requests->youtube-transcript-api) (2.0.4)\n",
            "Requirement already satisfied: idna<4,>=2.5 in c:\\users\\user\\anaconda3\\lib\\site-packages (from requests->youtube-transcript-api) (3.4)\n",
            "Requirement already satisfied: urllib3<3,>=1.21.1 in c:\\users\\user\\anaconda3\\lib\\site-packages (from requests->youtube-transcript-api) (2.0.7)\n",
            "Requirement already satisfied: certifi>=2017.4.17 in c:\\users\\user\\anaconda3\\lib\\site-packages (from requests->youtube-transcript-api) (2024.2.2)\n",
            "Downloading youtube_transcript_api-1.2.2-py3-none-any.whl (485 kB)\n",
            "   ---------------------------------------- 0.0/485.0 kB ? eta -:--:--\n",
            "   --- ----------------------------------- 41.0/485.0 kB 991.0 kB/s eta 0:00:01\n",
            "   --- ----------------------------------- 41.0/485.0 kB 991.0 kB/s eta 0:00:01\n",
            "   ----------- -------------------------- 143.4/485.0 kB 853.3 kB/s eta 0:00:01\n",
            "   ------------ ------------------------- 153.6/485.0 kB 657.6 kB/s eta 0:00:01\n",
            "   -------------------- ----------------- 256.0/485.0 kB 927.4 kB/s eta 0:00:01\n",
            "   ------------------------------ --------- 368.6/485.0 kB 1.1 MB/s eta 0:00:01\n",
            "   ---------------------------------------- 485.0/485.0 kB 1.2 MB/s eta 0:00:00\n",
            "Installing collected packages: youtube-transcript-api\n",
            "Successfully installed youtube-transcript-api-1.2.2\n"
          ]
        }
      ],
      "source": [
        "!pip install youtube-transcript-api\n",
        "from youtube_transcript_api import YouTubeTranscriptApi"
      ]
    },
    {
      "cell_type": "code",
      "execution_count": 2,
      "metadata": {
        "id": "o8eZjFybVqX8"
      },
      "outputs": [],
      "source": [
        "video_ids = {'Apache Spark Python - Spark Metastore - Creating Temporary Views': 'qgzBz2zNqUw',\n",
        " 'How to COMBINE DATA with MERGE and APPEND in Power BI': '1cPtk-8iK0k',\n",
        " 'Building Your First Agentic AI- Financial Agent With Phidata': '74SnvbQYgx8',\n",
        " 'Simple Excel Trick to Conditionally Format Your Bar Charts': 'P9SwZulI6p4',\n",
        " 'How to Migrate Data from MSSQL Server to Snowflake using Airflow!': '1ALk0ke4lfU',\n",
        " 'Microsoft Fabric in Hindi- Notebooks: Essential Functions for Analysis| Describe, join, groupBy': 'RqmHvSsGmFA',\n",
        " 'Interview Fails: \"What is SQL?\"': 'NDPZUk9_iPc',\n",
        " 'Microsoft Azure Weekly Update - 7th November 2021 - IGNITE FALL 2021 Edition': 'U9mJUyOihUc',\n",
        " 'Working with Customers': 'ts2VK__R0Lg',\n",
        " 'Testing Concurrent Write on S3 Table Buckets: Can 10 Spark Writers MERGE INTO Different Partitions?': 'hZKa6I_obYg'}"
      ]
    },
    {
      "cell_type": "code",
      "execution_count": 3,
      "metadata": {},
      "outputs": [
        {
          "data": {
            "text/plain": [
              "dict_values(['qgzBz2zNqUw', '1cPtk-8iK0k', '74SnvbQYgx8', 'P9SwZulI6p4', '1ALk0ke4lfU', 'RqmHvSsGmFA', 'NDPZUk9_iPc', 'U9mJUyOihUc', 'ts2VK__R0Lg', 'hZKa6I_obYg'])"
            ]
          },
          "execution_count": 3,
          "metadata": {},
          "output_type": "execute_result"
        }
      ],
      "source": [
        "video_ids.values()"
      ]
    },
    {
      "cell_type": "code",
      "execution_count": 8,
      "metadata": {
        "id": "N60vWHPBVxez"
      },
      "outputs": [],
      "source": [
        "ytt_api = YouTubeTranscriptApi()"
      ]
    },
    {
      "cell_type": "code",
      "execution_count": 10,
      "metadata": {},
      "outputs": [
        {
          "name": "stdout",
          "output_type": "stream",
          "text": [
            "Collecting reportlabNote: you may need to restart the kernel to use updated packages.\n",
            "\n",
            "  Downloading reportlab-4.4.4-py3-none-any.whl.metadata (1.7 kB)\n",
            "Requirement already satisfied: pillow>=9.0.0 in c:\\users\\user\\anaconda3\\lib\\site-packages (from reportlab) (10.2.0)\n",
            "Requirement already satisfied: charset-normalizer in c:\\users\\user\\anaconda3\\lib\\site-packages (from reportlab) (2.0.4)\n",
            "Downloading reportlab-4.4.4-py3-none-any.whl (2.0 MB)\n",
            "   ---------------------------------------- 0.0/2.0 MB ? eta -:--:--\n",
            "   ---------------------------------------- 0.0/2.0 MB ? eta -:--:--\n",
            "   ---------------------------------------- 0.0/2.0 MB ? eta -:--:--\n",
            "   ---------------------------------------- 0.0/2.0 MB ? eta -:--:--\n",
            "   ---------------------------------------- 0.0/2.0 MB ? eta -:--:--\n",
            "    --------------------------------------- 0.0/2.0 MB 187.9 kB/s eta 0:00:11\n",
            "    --------------------------------------- 0.0/2.0 MB 187.9 kB/s eta 0:00:11\n",
            "   - -------------------------------------- 0.1/2.0 MB 252.2 kB/s eta 0:00:08\n",
            "   - -------------------------------------- 0.1/2.0 MB 252.2 kB/s eta 0:00:08\n",
            "   - -------------------------------------- 0.1/2.0 MB 218.6 kB/s eta 0:00:09\n",
            "   - -------------------------------------- 0.1/2.0 MB 218.6 kB/s eta 0:00:09\n",
            "   --- ------------------------------------ 0.2/2.0 MB 446.4 kB/s eta 0:00:04\n",
            "   ---- ----------------------------------- 0.2/2.0 MB 479.2 kB/s eta 0:00:04\n",
            "   ---- ----------------------------------- 0.2/2.0 MB 479.2 kB/s eta 0:00:04\n",
            "   ---- ----------------------------------- 0.2/2.0 MB 437.4 kB/s eta 0:00:04\n",
            "   ----- ---------------------------------- 0.3/2.0 MB 468.0 kB/s eta 0:00:04\n",
            "   ------ --------------------------------- 0.3/2.0 MB 487.6 kB/s eta 0:00:04\n",
            "   ------- -------------------------------- 0.3/2.0 MB 515.1 kB/s eta 0:00:04\n",
            "   ------- -------------------------------- 0.4/2.0 MB 509.8 kB/s eta 0:00:04\n",
            "   -------- ------------------------------- 0.4/2.0 MB 559.8 kB/s eta 0:00:03\n",
            "   --------- ------------------------------ 0.5/2.0 MB 563.8 kB/s eta 0:00:03\n",
            "   ---------- ----------------------------- 0.5/2.0 MB 593.6 kB/s eta 0:00:03\n",
            "   ---------- ----------------------------- 0.5/2.0 MB 618.8 kB/s eta 0:00:03\n",
            "   ----------- ---------------------------- 0.6/2.0 MB 632.9 kB/s eta 0:00:03\n",
            "   ------------ --------------------------- 0.6/2.0 MB 655.4 kB/s eta 0:00:03\n",
            "   ------------- -------------------------- 0.7/2.0 MB 655.4 kB/s eta 0:00:02\n",
            "   -------------- ------------------------- 0.7/2.0 MB 674.8 kB/s eta 0:00:02\n",
            "   --------------- ------------------------ 0.7/2.0 MB 673.9 kB/s eta 0:00:02\n",
            "   ---------------- ----------------------- 0.8/2.0 MB 700.6 kB/s eta 0:00:02\n",
            "   ----------------- ---------------------- 0.8/2.0 MB 707.7 kB/s eta 0:00:02\n",
            "   ------------------ --------------------- 0.9/2.0 MB 722.4 kB/s eta 0:00:02\n",
            "   ------------------- -------------------- 0.9/2.0 MB 736.6 kB/s eta 0:00:02\n",
            "   -------------------- ------------------- 1.0/2.0 MB 748.0 kB/s eta 0:00:02\n",
            "   --------------------- ------------------ 1.0/2.0 MB 761.0 kB/s eta 0:00:02\n",
            "   ---------------------- ----------------- 1.1/2.0 MB 770.5 kB/s eta 0:00:02\n",
            "   ----------------------- ---------------- 1.1/2.0 MB 775.2 kB/s eta 0:00:02\n",
            "   ----------------------- ---------------- 1.2/2.0 MB 779.7 kB/s eta 0:00:02\n",
            "   ------------------------- -------------- 1.2/2.0 MB 793.2 kB/s eta 0:00:01\n",
            "   ------------------------- -------------- 1.3/2.0 MB 798.2 kB/s eta 0:00:01\n",
            "   --------------------------- ------------ 1.3/2.0 MB 805.5 kB/s eta 0:00:01\n",
            "   ---------------------------- ----------- 1.4/2.0 MB 813.4 kB/s eta 0:00:01\n",
            "   ----------------------------- ---------- 1.5/2.0 MB 825.1 kB/s eta 0:00:01\n",
            "   ------------------------------ --------- 1.5/2.0 MB 827.9 kB/s eta 0:00:01\n",
            "   ------------------------------- -------- 1.5/2.0 MB 833.0 kB/s eta 0:00:01\n",
            "   -------------------------------- ------- 1.6/2.0 MB 839.8 kB/s eta 0:00:01\n",
            "   --------------------------------- ------ 1.6/2.0 MB 843.5 kB/s eta 0:00:01\n",
            "   --------------------------------- ------ 1.6/2.0 MB 843.5 kB/s eta 0:00:01\n",
            "   ----------------------------------- ---- 1.7/2.0 MB 852.1 kB/s eta 0:00:01\n",
            "   ------------------------------------ --- 1.8/2.0 MB 857.4 kB/s eta 0:00:01\n",
            "   ------------------------------------- -- 1.8/2.0 MB 852.9 kB/s eta 0:00:01\n",
            "   ------------------------------------- -- 1.8/2.0 MB 856.5 kB/s eta 0:00:01\n",
            "   ------------------------------------- -- 1.8/2.0 MB 856.5 kB/s eta 0:00:01\n",
            "   ------------------------------------- -- 1.8/2.0 MB 856.5 kB/s eta 0:00:01\n",
            "   ---------------------------------------  1.9/2.0 MB 848.5 kB/s eta 0:00:01\n",
            "   ---------------------------------------- 2.0/2.0 MB 824.4 kB/s eta 0:00:00\n",
            "Installing collected packages: reportlab\n",
            "Successfully installed reportlab-4.4.4\n"
          ]
        }
      ],
      "source": [
        "pip install reportlab"
      ]
    },
    {
      "cell_type": "code",
      "execution_count": 12,
      "metadata": {},
      "outputs": [
        {
          "name": "stdout",
          "output_type": "stream",
          "text": [
            "Successfully created PDF: video_transcripts.pdf\n"
          ]
        }
      ],
      "source": [
        "from reportlab.platypus import SimpleDocTemplate, Paragraph, Spacer\n",
        "from reportlab.lib.styles import getSampleStyleSheet\n",
        "from reportlab.lib.units import inch\n",
        "\n",
        "\n",
        "# 1. Setup for PDF generation\n",
        "pdf_filename = \"video_transcripts.pdf\"\n",
        "doc = SimpleDocTemplate(pdf_filename)\n",
        "styles = getSampleStyleSheet()\n",
        "story = []\n",
        "\n",
        "# 2. Loop through videos and build the content for the PDF\n",
        "for video_title, video_id in video_ids.items():\n",
        "    # Add video title as a heading\n",
        "    story.append(Paragraph(f\"Transcript for: {video_title}\", styles['h2']))\n",
        "    story.append(Spacer(1, 0.2 * inch))\n",
        "\n",
        "    try:\n",
        "        # Fetch the transcript\n",
        "        raw_transcript = ytt_api.fetch(video_id)\n",
        "        \n",
        "        # Combine all transcript snippets into a single block of text\n",
        "        # ✅ FIXED: Changed snippet['text'] to snippet.text\n",
        "        full_transcript_text = \" \".join([snippet.text for snippet in raw_transcript])\n",
        "        \n",
        "        # Add the full transcript as a paragraph\n",
        "        story.append(Paragraph(full_transcript_text, styles['BodyText']))\n",
        "        \n",
        "    except Exception as e:\n",
        "        # Handle cases where a transcript might not be available\n",
        "        error_message = f\"Could not fetch transcript for video ID {video_id}: {e}\"\n",
        "        story.append(Paragraph(error_message, styles['BodyText']))\n",
        "\n",
        "    # Add a spacer for separation between videos\n",
        "    story.append(Spacer(1, 0.5 * inch))\n",
        "    \n",
        "# 3. Build and save the PDF\n",
        "doc.build(story)\n",
        "\n",
        "print(f\"Successfully created PDF: {pdf_filename}\")\n"
      ]
    }
  ],
  "metadata": {
    "colab": {
      "provenance": []
    },
    "kernelspec": {
      "display_name": "base",
      "language": "python",
      "name": "python3"
    },
    "language_info": {
      "codemirror_mode": {
        "name": "ipython",
        "version": 3
      },
      "file_extension": ".py",
      "mimetype": "text/x-python",
      "name": "python",
      "nbconvert_exporter": "python",
      "pygments_lexer": "ipython3",
      "version": "3.11.7"
    }
  },
  "nbformat": 4,
  "nbformat_minor": 0
}
